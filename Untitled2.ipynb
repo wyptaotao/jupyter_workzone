{
 "cells": [
  {
   "cell_type": "code",
   "execution_count": 11,
   "metadata": {},
   "outputs": [
    {
     "name": "stdout",
     "output_type": "stream",
     "text": [
      "开始判断列表\n",
      "B!\n",
      "B!\n",
      "B!\n",
      "B!\n",
      "A!\n",
      "B!\n",
      "B!\n",
      "B!\n",
      "B!\n",
      "B!\n",
      "B!\n",
      "B!\n",
      "B!\n",
      "B!\n",
      "B!\n",
      "A!\n",
      "B!\n",
      "B!\n",
      "B!\n",
      "A!\n"
     ]
    },
    {
     "data": {
      "text/plain": [
       "19"
      ]
     },
     "execution_count": 11,
     "metadata": {},
     "output_type": "execute_result"
    }
   ],
   "source": [
    "import random\n",
    "score_list=[]\n",
    "i=0\n",
    "while i<20:\n",
    "    score_list.append(random.randint(1,100))\n",
    "    i+=1\n",
    "def judge_level(list):\n",
    "    print(\"开始判断列表\")\n",
    "    for i in range(20):\n",
    "        if(90<list[i]<=100):\n",
    "            print(\"A!\")\n",
    "        else:\n",
    "            print(\"B!\")\n",
    "    return i\n",
    "judge_level(score_list)"
   ]
  },
  {
   "cell_type": "code",
   "execution_count": null,
   "metadata": {},
   "outputs": [],
   "source": []
  },
  {
   "cell_type": "code",
   "execution_count": null,
   "metadata": {},
   "outputs": [],
   "source": []
  },
  {
   "cell_type": "code",
   "execution_count": 9,
   "metadata": {},
   "outputs": [
    {
     "name": "stdout",
     "output_type": "stream",
     "text": [
      "开始判断列表\n",
      "B!\n",
      "B!\n",
      "A!\n",
      "B!\n",
      "B!\n",
      "B!\n",
      "B!\n",
      "B!\n",
      "B!\n",
      "B!\n",
      "B!\n",
      "B!\n",
      "B!\n",
      "B!\n",
      "B!\n",
      "B!\n",
      "A!\n",
      "B!\n",
      "B!\n",
      "B!\n"
     ]
    },
    {
     "data": {
      "text/plain": [
       "19"
      ]
     },
     "execution_count": 9,
     "metadata": {},
     "output_type": "execute_result"
    }
   ],
   "source": [
    "import random\n",
    "score_list=[]\n",
    "i=0\n",
    "while i<20:\n",
    "    score_list.append(random.randint(1,100))\n",
    "    i+=1\n",
    "def judge_level(list):\n",
    "    print(\"开始判断列表\")\n",
    "    for i in range(20):\n",
    "        if(90<list[i]<=100):\n",
    "            print(\"A!\")\n",
    "        else:\n",
    "            print(\"B!\")\n",
    "    return i\n",
    "judge_level(score_list)"
   ]
  },
  {
   "cell_type": "code",
   "execution_count": null,
   "metadata": {},
   "outputs": [],
   "source": []
  }
 ],
 "metadata": {
  "kernelspec": {
   "display_name": "Python 3",
   "language": "python",
   "name": "python3"
  },
  "language_info": {
   "codemirror_mode": {
    "name": "ipython",
    "version": 3
   },
   "file_extension": ".py",
   "mimetype": "text/x-python",
   "name": "python",
   "nbconvert_exporter": "python",
   "pygments_lexer": "ipython3",
   "version": "3.8.3"
  }
 },
 "nbformat": 4,
 "nbformat_minor": 4
}
