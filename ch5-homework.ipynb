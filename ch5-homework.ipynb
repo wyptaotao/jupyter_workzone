{
 "cells": [
  {
   "cell_type": "markdown",
   "metadata": {},
   "source": [
    "## 一元线性回归部分"
   ]
  },
  {
   "cell_type": "code",
   "execution_count": 123,
   "metadata": {},
   "outputs": [
    {
     "name": "stdout",
     "output_type": "stream",
     "text": [
      "['CRIM' 'ZN' 'INDUS' 'CHAS' 'NOX' 'RM' 'AGE' 'DIS' 'RAD' 'TAX' 'PTRATIO'\n",
      " 'B' 'LSTAT']\n",
      "[2.9850e-02 0.0000e+00 2.1800e+00 0.0000e+00 4.5800e-01 6.4300e+00\n",
      " 5.8700e+01 6.0622e+00 3.0000e+00 2.2200e+02 1.8700e+01 3.9412e+02\n",
      " 5.2100e+00]\n",
      "(506,)\n",
      "(506,)\n"
     ]
    }
   ],
   "source": [
    "import pandas as pd\n",
    "import numpy as np\n",
    "import matplotlib.pyplot as plt\n",
    "import matplotlib as matplot\n",
    "import seaborn as sns\n",
    "from numpy import dot\n",
    "from sklearn.linear_model import LinearRegression\n",
    "from sklearn.datasets import load_boston\n",
    "from sklearn.datasets import load_breast_cancer\n",
    "from sklearn.model_selection import train_test_split\n",
    "from sklearn.linear_model import LogisticRegression\n",
    "%matplotlib inline\n",
    "\n",
    "def runplt():\n",
    "    plt.figure()\n",
    "    plt.title(\"price-rooms\")\n",
    "    plt.xlabel('Rooms')\n",
    "    plt.ylabel('Price')\n",
    "    plt.grid(True)\n",
    "    plt.xlim()\n",
    "    plt.ylim()\n",
    "    return plt\n",
    "\n",
    "boston=load_boston()#读入boston房屋数据集\n",
    "print(boston.feature_names)\n",
    "print(boston.data[5])\n",
    "price= boston.target\n",
    "data=boston.data\n",
    "rooms=data[:,5]#将数据中第六列即房间数取出\n",
    "print(price.shape)\n",
    "print(rooms.shape)\n"
   ]
  },
  {
   "cell_type": "code",
   "execution_count": 124,
   "metadata": {
    "scrolled": false
   },
   "outputs": [
    {
     "name": "stdout",
     "output_type": "stream",
     "text": [
      "w = 9.102109\n",
      "b = -34.670621\n"
     ]
    },
    {
     "data": {
      "image/png": "[encoded data removed]",
      "text/plain": [
       "<Figure size 432x288 with 1 Axes>"
      ]
     },
     "metadata": {
      "needs_background": "light"
     },
     "output_type": "display_data"
    }
   ],
   "source": [
    "variance = np.var(rooms, ddof=1)  # 计算方差，doff为贝塞尔（无偏估计）校正系数\n",
    "covariance = np.cov(rooms, price)[0][1]  # 计算协方差\n",
    "w = covariance / variance\n",
    "b = np.mean(price) - w * np.mean(rooms)\n",
    "\n",
    "print(\"w = %f\\nb = %f\" % (w, b))\n",
    "\n",
    "y_pred = w * rooms + b\n",
    "\n",
    "plt = runplt()\n",
    "plt.plot(rooms, price, 'k.')  # 样本点\n",
    "plt.plot(rooms, y_pred, 'b-')  # 手动求出的线性回归模型\n",
    "plt.show()"
   ]
  },
  {
   "cell_type": "markdown",
   "metadata": {},
   "source": [
    "## 多元线性回归部分"
   ]
  },
  {
   "cell_type": "code",
   "execution_count": 146,
   "metadata": {},
   "outputs": [
    {
     "data": {
      "text/plain": [
       "array([[6.29760e-01, 0.00000e+00, 8.14000e+00, ..., 3.96900e+02,\n",
       "        8.26000e+00, 1.00000e+00],\n",
       "       [1.71710e-01, 2.50000e+01, 5.13000e+00, ..., 3.78080e+02,\n",
       "        1.44400e+01, 1.00000e+00],\n",
       "       [9.82349e+00, 0.00000e+00, 1.81000e+01, ..., 3.96900e+02,\n",
       "        2.12400e+01, 1.00000e+00],\n",
       "       ...,\n",
       "       [5.87205e+00, 0.00000e+00, 1.81000e+01, ..., 3.96900e+02,\n",
       "        1.93700e+01, 1.00000e+00],\n",
       "       [3.30450e-01, 0.00000e+00, 6.20000e+00, ..., 3.76750e+02,\n",
       "        1.08800e+01, 1.00000e+00],\n",
       "       [8.01400e-02, 0.00000e+00, 5.96000e+00, ..., 3.96900e+02,\n",
       "        8.77000e+00, 1.00000e+00]])"
      ]
     },
     "execution_count": 146,
     "metadata": {},
     "output_type": "execute_result"
    }
   ],
   "source": [
    "x_train, x_test, y_train, y_test = train_test_split(data, price, test_size = 0.3, random_state = 1)#按照三七分分开训练集和测试集\n",
    "ones = np.ones(x_train.shape[0]).reshape(-1,1)\n",
    "X= np.hstack((x_train,ones))\n",
    "X"
   ]
  },
  {
   "cell_type": "markdown",
   "metadata": {},
   "source": [
    "由公式$\\hat w^*=(X^TX)^-1X^Ty$，可以计算出$\\hat w^*$的值"
   ]
  },
  {
   "cell_type": "code",
   "execution_count": 148,
   "metadata": {},
   "outputs": [
    {
     "data": {
      "text/plain": [
       "array([-9.85424717e-02,  6.07841138e-02,  5.91715401e-02,  2.43955988e+00,\n",
       "       -2.14699650e+01,  2.79581385e+00,  3.57459778e-03, -1.51627218e+00,\n",
       "        3.07541745e-01, -1.12800166e-02, -1.00546640e+00,  6.45018446e-03,\n",
       "       -5.68834539e-01,  4.63964939e+01])"
      ]
     },
     "execution_count": 148,
     "metadata": {},
     "output_type": "execute_result"
    }
   ],
   "source": [
    "w_ = np.dot(np.dot(np.linalg.inv(np.dot(X.T, X)), X.T), y_train)\n",
    "w_"
   ]
  },
  {
   "cell_type": "code",
   "execution_count": 149,
   "metadata": {},
   "outputs": [
    {
     "name": "stdout",
     "output_type": "stream",
     "text": [
      "[-9.85424717e-02  6.07841138e-02  5.91715401e-02  2.43955988e+00\n",
      " -2.14699650e+01  2.79581385e+00  3.57459778e-03 -1.51627218e+00\n",
      "  3.07541745e-01 -1.12800166e-02 -1.00546640e+00  6.45018446e-03\n",
      " -5.68834539e-01]\n",
      "46.396493871836306\n"
     ]
    }
   ],
   "source": [
    "b = w_[-1]\n",
    "w = w_[:-1]\n",
    "print(w)\n",
    "print(b)"
   ]
  },
  {
   "cell_type": "code",
   "execution_count": 150,
   "metadata": {},
   "outputs": [
    {
     "name": "stdout",
     "output_type": "stream",
     "text": [
      "目标值：\n",
      " [28.2 23.9 16.6 22.  20.8 23.  27.9 14.5 21.5 22.6 23.7 31.2 19.3 19.4\n",
      " 19.4 27.9 13.9 50.  24.1 14.6 16.2 15.6 23.8 25.  23.5  8.3 13.5 17.5\n",
      " 43.1 11.5 24.1 18.5 50.  12.6 19.8 24.5 14.9 36.2 11.9 19.1 22.6 20.7\n",
      " 30.1 13.3 14.6  8.4 50.  12.7 25.  18.6 29.8 22.2 28.7 23.8  8.1 22.2\n",
      "  6.3 22.1 17.5 48.3 16.7 26.6  8.5 14.5 23.7 37.2 41.7 16.5 21.7 22.7\n",
      " 23.  10.5 21.9 21.  20.4 21.8 50.  22.  23.3 37.3 18.  19.2 34.9 13.4\n",
      " 22.9 22.5 13.  24.6 18.3 18.1 23.9 50.  13.6 22.9 10.9 18.9 22.4 22.9\n",
      " 44.8 21.7 10.2 15.4 25.3 23.3  7.2 21.2 11.7 27.  29.6 26.5 43.5 23.6\n",
      " 11.  33.4 36.  36.4 19.  20.2 34.9 50.  19.3 14.9 26.6 19.9 24.8 21.2\n",
      " 23.9 20.6 23.1 28.  20.  23.1 25.   9.7 23.9 36.1 13.4 12.7 39.8 10.4\n",
      " 20.6 17.8 19.5 23.7 28.5 24.3 23.8 19.1 28.4 20.5 33.8 14.5]\n",
      "预测值：\n",
      " [32.3914647  27.94401279 17.83762764 21.66941388 18.93639614 20.01995795\n",
      " 32.63414961 17.86179976 24.73211676 26.77346826 27.26138023 28.63243014\n",
      " 21.16103038 27.15098589 23.33198614 21.02894005 17.11819755 37.52455938\n",
      " 30.69864427  8.46104486 20.83966032 16.26732451 25.05030307 24.8069032\n",
      " 31.6789299  10.98989363 13.54111562 16.54697099 35.86699683 14.69589266\n",
      " 21.05655107 13.90301353 43.01321262 17.80335305 21.68817023 20.45077825\n",
      " 17.38095983 26.81334904 10.08706217 19.96174586 24.1983249  21.00202622\n",
      " 29.38682967 16.33215467 19.37439646 14.45525235 39.52670798 18.18535021\n",
      " 26.38536303 20.41420863 25.08511581 24.40208165 24.87902769 26.97887956\n",
      "  4.93921657 24.0001365  10.66711602 26.98494775 16.63507993 35.31652989\n",
      " 19.49249915 27.37577863 16.53965715 19.09746715 11.06765336 32.03445261\n",
      " 36.15847648 21.53547868 24.96434626 25.50601154 23.41203509  7.20513615\n",
      " 16.8659937  20.06269471 20.61979368 21.97238475 34.25908683 27.9998298\n",
      " 24.95261644 34.74201458 18.63786454 23.95355085 34.50655345 13.15979729\n",
      " 20.53691051 30.29844955 16.932953   24.29285934 19.11800155 16.9848188\n",
      " 26.80165303 40.90027245 14.43790215 23.20589688 15.39439519 21.77332361\n",
      " 22.85660249 29.45718412 36.54373379 20.36577747 18.01790611 17.41615519\n",
      " 25.23381893 21.98069747  8.3160445  21.49942727 16.565317   33.22680671\n",
      " 24.39944797 24.99055027 38.37532568 28.82033178 14.76287071 34.72063358\n",
      " 35.40686066 32.93299015 20.95996646 16.74324182 34.54769634 38.9463732\n",
      " 21.47971843 15.54203787 27.46719043 18.62729405 27.3819011  21.13549164\n",
      " 26.24403323 22.22010257 23.34295812 28.29923408 20.53788412 23.94639233\n",
      " 29.8421088  10.55075792 27.02280253 32.41641579 13.94180705 13.62057726\n",
      " 33.00870341 14.2836798  17.70899424 16.30194776 17.14377392 28.71467061\n",
      " 34.07548297 20.31288796 24.55801246 17.32995936 28.3602341  20.79422791\n",
      " 33.6981572  13.51882716]\n"
     ]
    }
   ],
   "source": [
    "y_pred = np.dot(x_test, w) + b\n",
    "print(\"目标值：\\n\", y_test)\n",
    "print(\"预测值：\\n\", y_pred)"
   ]
  }
 ],
 "metadata": {
  "kernelspec": {
   "display_name": "Python 3",
   "language": "python",
   "name": "python3"
  },
  "language_info": {
   "codemirror_mode": {
    "name": "ipython",
    "version": 3
   },
   "file_extension": ".py",
   "mimetype": "text/x-python",
   "name": "python",
   "nbconvert_exporter": "python",
   "pygments_lexer": "ipython3",
   "version": "3.8.3"
  }
 },
 "nbformat": 4,
 "nbformat_minor": 4
}
