{
 "cells": [
  {
   "cell_type": "markdown",
   "metadata": {
    "colab_type": "text",
    "id": "Tp5LQrHOm7Mz"
   },
   "source": [
    "**1. Mount the grive to load the dataset**"
   ]
  },
  {
   "cell_type": "code",
   "execution_count": 0,
   "metadata": {
    "colab": {},
    "colab_type": "code",
    "id": "eIkMtPtLk9Pp"
   },
   "outputs": [],
   "source": [
    "from google.colab import drive\n",
    "drive.mount('/content/gdrive')"
   ]
  },
  {
   "cell_type": "markdown",
   "metadata": {
    "colab_type": "text",
    "id": "QualK3MExCxP"
   },
   "source": [
    "**2.Load the dataset using Pandas package**"
   ]
  },
  {
   "cell_type": "code",
   "execution_count": 0,
   "metadata": {
    "colab": {},
    "colab_type": "code",
    "id": "WOTbq01kqE58"
   },
   "outputs": [],
   "source": [
    "import pandas as pd \n",
    "df=pd.read_csv('gdrive/My Drive/Colab Notebooks/data11_sports6.txt')\n",
    "dataset = df.values.tolist()"
   ]
  },
  {
   "cell_type": "code",
   "execution_count": 0,
   "metadata": {
    "colab": {
     "base_uri": "https://localhost:8080/",
     "height": 101
    },
    "colab_type": "code",
    "id": "8APps9Il7dgn",
    "outputId": "583b3175-5dfe-4103-bd0c-0cd69a4cb3cd"
   },
   "outputs": [
    {
     "name": "stdout",
     "output_type": "stream",
     "text": [
      "     Sky AirTemp Humidity    Wind Water Forecast  EnjoySport\n",
      "0  sunny    warm   normal  strong  warm     same           1\n",
      "1  sunny    warm     high  strong  warm     same           1\n",
      "2  rainy    cold     high  strong  warm   change           0\n",
      "3  sunny    warm     high  strong  cool   change           1\n"
     ]
    }
   ],
   "source": [
    "print(df)"
   ]
  },
  {
   "cell_type": "markdown",
   "metadata": {
    "colab_type": "text",
    "id": "1A4dhTp4xN_d"
   },
   "source": [
    "**3.Apply the Find-S Algorithm**"
   ]
  },
  {
   "cell_type": "code",
   "execution_count": 0,
   "metadata": {
    "colab": {},
    "colab_type": "code",
    "id": "UVrhyIUWlFWU"
   },
   "outputs": [],
   "source": [
    "flag = 0\n",
    "h=[];\n",
    "for x in range(len(dataset)):\n",
    "    t=dataset[x]              # Get an instance from the dataset\n",
    "    if t[-1]==1 and flag==0:  # Initialize h with first +ve sample\n",
    "      flag=1\n",
    "      h = dataset[x]\n",
    "    elif t[-1]==1:            # Update h with remaining +ve samples\t\n",
    "      for y in range(len(t)):\n",
    "        if h[y]!=t[y]:\n",
    "            h[y]='?'\n",
    "    #print(\"Training instance {0} the hypothesis is : \".format(x+1),end=' ')\n",
    "    #print(h[0:-1])\n",
    "  "
   ]
  },
  {
   "cell_type": "markdown",
   "metadata": {
    "colab_type": "text",
    "id": "OJPndR6fxZr4"
   },
   "source": [
    "**4. Display the final result**"
   ]
  },
  {
   "cell_type": "code",
   "execution_count": 0,
   "metadata": {
    "colab": {
     "base_uri": "https://localhost:8080/",
     "height": 50
    },
    "colab_type": "code",
    "id": "FkU2YSabxaR3",
    "outputId": "531e884f-4211-4316-b790-3c523d590355"
   },
   "outputs": [
    {
     "name": "stdout",
     "output_type": "stream",
     "text": [
      "The maximally specific hypothesis for a given training examples\n",
      "['sunny', 'warm', '?', 'strong', '?', '?']\n"
     ]
    }
   ],
   "source": [
    "print(\"The maximally specific hypothesis for a given training examples\")        \n",
    "print(h[:-1])"
   ]
  }
 ],
 "metadata": {
  "colab": {
   "collapsed_sections": [],
   "name": "01_FindS.ipynb",
   "provenance": []
  },
  "kernelspec": {
   "display_name": "Python 3",
   "language": "python",
   "name": "python3"
  },
  "language_info": {
   "codemirror_mode": {
    "name": "ipython",
    "version": 3
   },
   "file_extension": ".py",
   "mimetype": "text/x-python",
   "name": "python",
   "nbconvert_exporter": "python",
   "pygments_lexer": "ipython3",
   "version": "3.8.3"
  }
 },
 "nbformat": 4,
 "nbformat_minor": 1
}
