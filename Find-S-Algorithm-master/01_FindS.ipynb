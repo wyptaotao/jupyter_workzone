{
  "nbformat": 4,
  "nbformat_minor": 0,
  "metadata": {
    "colab": {
      "name": "Copy of 01_FindS.ipynb",
      "provenance": [],
      "collapsed_sections": [],
      "include_colab_link": true
    },
    "kernelspec": {
      "name": "python3",
      "display_name": "Python 3"
    }
  },
  "cells": [
    {
      "cell_type": "markdown",
      "metadata": {
        "id": "view-in-github",
        "colab_type": "text"
      },
      "source": [
        "<a href=\"https://colab.research.google.com/github/harivinodn/Find-S-Algorithm/blob/master/01_FindS.ipynb\" target=\"_parent\"><img src=\"https://colab.research.google.com/assets/colab-badge.svg\" alt=\"Open In Colab\"/></a>"
      ]
    },
    {
      "cell_type": "markdown",
      "metadata": {
        "id": "Tp5LQrHOm7Mz",
        "colab_type": "text"
      },
      "source": [
        "**Load the dataset using Pandas package - From Gdrive**"
      ]
    },
    {
      "cell_type": "code",
      "metadata": {
        "id": "eIkMtPtLk9Pp",
        "colab_type": "code",
        "colab": {}
      },
      "source": [
        "from google.colab import drive\n",
        "drive.mount('/content/gdrive')\n",
        "filename= 'gdrive/My Drive/Colab Notebooks/data11_sports6.csv'\n",
        "\n",
        "import pandas as pd \n",
        "df=pd.read_csv(filename)\n",
        "dataset = df.values.tolist()"
      ],
      "execution_count": 0,
      "outputs": []
    },
    {
      "cell_type": "markdown",
      "metadata": {
        "colab_type": "text",
        "id": "QualK3MExCxP"
      },
      "source": [
        "**Load the dataset using Pandas package - From github**"
      ]
    },
    {
      "cell_type": "code",
      "metadata": {
        "id": "WOTbq01kqE58",
        "colab_type": "code",
        "colab": {}
      },
      "source": [
        "# Note: the github file need to specified as 'Raw'\n",
        "import pandas as pd \n",
        "df=pd.read_csv('https://raw.githubusercontent.com/harivinodn/Find-S-Algorithm/master/data11_sports6.csv')\n",
        "dataset = df.values.tolist()"
      ],
      "execution_count": 0,
      "outputs": []
    },
    {
      "cell_type": "code",
      "metadata": {
        "id": "8APps9Il7dgn",
        "colab_type": "code",
        "outputId": "da84da48-576d-4530-9db5-843a5e361e7a",
        "colab": {
          "base_uri": "https://localhost:8080/",
          "height": 101
        }
      },
      "source": [
        "print(df)"
      ],
      "execution_count": 0,
      "outputs": [
        {
          "output_type": "stream",
          "text": [
            "     Sky AirTemp Humidity    Wind Water Forecast  EnjoySport\n",
            "0  sunny    warm   normal  strong  warm     same           1\n",
            "1  sunny    warm     high  strong  warm     same           1\n",
            "2  rainy    cold     high  strong  warm   change           0\n",
            "3  sunny    warm     high  strong  cool   change           1\n"
          ],
          "name": "stdout"
        }
      ]
    },
    {
      "cell_type": "markdown",
      "metadata": {
        "id": "1A4dhTp4xN_d",
        "colab_type": "text"
      },
      "source": [
        "**Apply the Find-S Algorithm**"
      ]
    },
    {
      "cell_type": "code",
      "metadata": {
        "id": "UVrhyIUWlFWU",
        "colab_type": "code",
        "colab": {}
      },
      "source": [
        "flag = 0\n",
        "h=[];\n",
        "for x in range(len(dataset)):\n",
        "    t=dataset[x]              # Get an instance from the dataset\n",
        "    if t[-1]==1 and flag==0:  # Initialize h with first +ve sample\n",
        "      flag=1\n",
        "      h = dataset[x]\n",
        "    elif t[-1]==1:            # Update h with remaining +ve samples\t\n",
        "      for y in range(len(t)):\n",
        "        if h[y]!=t[y]:\n",
        "            h[y]='?'\n",
        "    #print(\"Training instance {0} the hypothesis is : \".format(x+1),end=' ')\n",
        "    #print(h[0:-1])\n",
        "  "
      ],
      "execution_count": 0,
      "outputs": []
    },
    {
      "cell_type": "markdown",
      "metadata": {
        "id": "OJPndR6fxZr4",
        "colab_type": "text"
      },
      "source": [
        "**Display the final result**"
      ]
    },
    {
      "cell_type": "code",
      "metadata": {
        "id": "FkU2YSabxaR3",
        "colab_type": "code",
        "outputId": "531e884f-4211-4316-b790-3c523d590355",
        "colab": {
          "base_uri": "https://localhost:8080/",
          "height": 50
        }
      },
      "source": [
        "print(\"The maximally specific hypothesis for a given training examples\")        \n",
        "print(h[:-1])"
      ],
      "execution_count": 0,
      "outputs": [
        {
          "output_type": "stream",
          "text": [
            "The maximally specific hypothesis for a given training examples\n",
            "['sunny', 'warm', '?', 'strong', '?', '?']\n"
          ],
          "name": "stdout"
        }
      ]
    }
  ]
}