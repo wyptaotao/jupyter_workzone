{
 "cells": [
  {
   "cell_type": "code",
   "execution_count": 2,
   "metadata": {},
   "outputs": [
    {
     "name": "stdout",
     "output_type": "stream",
     "text": [
      "贝叶斯模型训练集的准确率：0.943\n",
      "贝叶斯模型测试集的准确率：1.000\n"
     ]
    }
   ],
   "source": [
    "#鸢尾花朴素贝叶斯分类\n",
    "from sklearn.datasets import load_iris\n",
    "from sklearn import neighbors\n",
    "from sklearn import naive_bayes\n",
    "from sklearn.model_selection import train_test_split\n",
    "bayes = naive_bayes.GaussianNB()\n",
    "X = load_iris().data\n",
    "Y = load_iris().target\n",
    "x_train, x_test, y_train, y_test = train_test_split(X,Y, test_size = 0.3, random_state = 0)\n",
    "bayes.fit(x_train,y_train)\n",
    "print(\"贝叶斯模型训练集的准确率：%.3f\" %bayes.score(x_train, y_train))\n",
    "print(\"贝叶斯模型测试集的准确率：%.3f\" %bayes.score(x_test, y_test))"
   ]
  }
 ],
 "metadata": {
  "kernelspec": {
   "display_name": "Python 3",
   "language": "python",
   "name": "python3"
  },
  "language_info": {
   "codemirror_mode": {
    "name": "ipython",
    "version": 3
   },
   "file_extension": ".py",
   "mimetype": "text/x-python",
   "name": "python",
   "nbconvert_exporter": "python",
   "pygments_lexer": "ipython3",
   "version": "3.7.3"
  }
 },
 "nbformat": 4,
 "nbformat_minor": 2
}
