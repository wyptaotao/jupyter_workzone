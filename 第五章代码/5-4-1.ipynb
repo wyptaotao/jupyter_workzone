{
 "cells": [
  {
   "cell_type": "code",
   "execution_count": 2,
   "metadata": {},
   "outputs": [
    {
     "name": "stdout",
     "output_type": "stream",
     "text": [
      "iris target names: ['setosa' 'versicolor' 'virginica']\n",
      "Tree模型训练集的准确率：1.000\n",
      "Tree模型测试集的准确率：0.889\n"
     ]
    }
   ],
   "source": [
    "#鸢尾花决策树分类\n",
    "from sklearn.datasets import load_iris\n",
    "from sklearn import tree\n",
    "from sklearn.model_selection import train_test_split\n",
    "tree = tree.DecisionTreeClassifier(criterion='entropy') \n",
    "X = load_iris().data\n",
    "Y = load_iris().target\n",
    "x_train, x_test, y_train, y_test = train_test_split(X,Y, test_size = 0.3)\n",
    "print (\"iris target names: %s\"%(load_iris().target_names))\n",
    "tree.fit(x_train,y_train)\n",
    "print(\"Tree模型训练集的准确率：%.3f\" %tree.score(x_train, y_train))\n",
    "print(\"Tree模型测试集的准确率：%.3f\" %tree.score(x_test, y_test))"
   ]
  }
 ],
 "metadata": {
  "kernelspec": {
   "display_name": "Python 3",
   "language": "python",
   "name": "python3"
  },
  "language_info": {
   "codemirror_mode": {
    "name": "ipython",
    "version": 3
   },
   "file_extension": ".py",
   "mimetype": "text/x-python",
   "name": "python",
   "nbconvert_exporter": "python",
   "pygments_lexer": "ipython3",
   "version": "3.7.3"
  }
 },
 "nbformat": 4,
 "nbformat_minor": 2
}
