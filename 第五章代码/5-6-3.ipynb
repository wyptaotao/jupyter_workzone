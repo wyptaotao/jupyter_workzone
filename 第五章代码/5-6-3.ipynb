{
 "cells": [
  {
   "cell_type": "code",
   "execution_count": 2,
   "metadata": {},
   "outputs": [
    {
     "name": "stdout",
     "output_type": "stream",
     "text": [
      "神经网络模型训练集的准确率：0.981\n",
      "神经网络模型测试集的准确率：0.978\n"
     ]
    }
   ],
   "source": [
    "import numpy as np  \n",
    "from sklearn.datasets import load_iris\n",
    "from sklearn.model_selection import train_test_split\n",
    "from sklearn.neural_network import MLPClassifier\n",
    "X = load_iris().data\n",
    "Y = load_iris().target\n",
    "model = MLPClassifier(max_iter=1000)\n",
    "x_train, x_test, y_train, y_test = train_test_split(X,Y, test_size = 0.3)\n",
    "model.fit(x_train,y_train) \n",
    "print(\"神经网络模型训练集的准确率：%.3f\" %model.score(x_train, y_train))\n",
    "print(\"神经网络模型测试集的准确率：%.3f\" %model.score(x_test, y_test))"
   ]
  }
 ],
 "metadata": {
  "kernelspec": {
   "display_name": "Python 3",
   "language": "python",
   "name": "python3"
  },
  "language_info": {
   "codemirror_mode": {
    "name": "ipython",
    "version": 3
   },
   "file_extension": ".py",
   "mimetype": "text/x-python",
   "name": "python",
   "nbconvert_exporter": "python",
   "pygments_lexer": "ipython3",
   "version": "3.7.3"
  }
 },
 "nbformat": 4,
 "nbformat_minor": 2
}
