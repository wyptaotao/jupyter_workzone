{
 "cells": [
  {
   "cell_type": "code",
   "execution_count": 55,
   "metadata": {},
   "outputs": [],
   "source": [
    "from sklearn.neural_network import BernoulliRBM\n",
    "from sklearn.neural_network import MLPClassifier\n",
    "from sklearn.neural_network import MLPRegressor\n",
    "from sklearn.datasets import fetch_openml\n",
    "from sklearn.model_selection import train_test_split\n",
    "import numpy as np\n",
    "import struct\n",
    "import matplotlib.pyplot as plt\n",
    "import os"
   ]
  },
  {
   "cell_type": "code",
   "execution_count": 56,
   "metadata": {
    "scrolled": false
   },
   "outputs": [],
   "source": [
    "mnist = fetch_openml(\"mnist_784\")\n",
    "mnist\n",
    "x=mnist.data\n",
    "y=mnist.target\n",
    "x_train, x_test, y_train, y_test = train_test_split(x,y, test_size = 0.3)"
   ]
  },
  {
   "cell_type": "code",
   "execution_count": 76,
   "metadata": {},
   "outputs": [
    {
     "data": {
      "text/plain": [
       "MLPClassifier(hidden_layer_sizes=100, learning_rate_init=0.005, max_iter=50)"
      ]
     },
     "execution_count": 76,
     "metadata": {},
     "output_type": "execute_result"
    }
   ],
   "source": [
    "CLF=MLPClassifier(hidden_layer_sizes=(100),learning_rate_init=0.005, max_iter=50)\n",
    "CLF.fit(x_train,y_train)"
   ]
  },
  {
   "cell_type": "code",
   "execution_count": 77,
   "metadata": {},
   "outputs": [
    {
     "name": "stdout",
     "output_type": "stream",
     "text": [
      "['7' '8' '2' ... '5' '9' '9']\n",
      "[[7.25564210e-19 8.92962909e-07 7.67937553e-05 ... 9.99878383e-01\n",
      "  8.69792568e-12 4.20354076e-05]\n",
      " [2.04570732e-02 9.84976684e-03 4.22588553e-02 ... 1.14269862e-02\n",
      "  7.69334196e-01 2.43357871e-02]\n",
      " [6.78749877e-12 8.08249108e-05 9.67638779e-01 ... 3.32435774e-03\n",
      "  2.53178624e-02 4.34813461e-16]\n",
      " ...\n",
      " [8.36307761e-11 1.69007145e-09 5.86824677e-48 ... 2.91668769e-21\n",
      "  1.34806393e-01 5.70148481e-13]\n",
      " [8.35602228e-20 6.81637421e-10 9.19683845e-10 ... 9.38241411e-04\n",
      "  9.72743486e-08 9.92250311e-01]\n",
      " [7.50180473e-25 1.02444927e-17 3.67595837e-12 ... 8.92922374e-05\n",
      "  1.94545958e-11 9.99552017e-01]]\n"
     ]
    },
    {
     "data": {
      "text/plain": [
       "0.9171904761904762"
      ]
     },
     "execution_count": 77,
     "metadata": {},
     "output_type": "execute_result"
    }
   ],
   "source": [
    "ppp = CLF.predict(x_test)\n",
    "print(ppp)\n",
    "print(CLF.predict_proba(x_test))\n",
    "CLF.score(x_test,y_test)"
   ]
  },
  {
   "cell_type": "markdown",
   "metadata": {},
   "source": []
  }
 ],
 "metadata": {
  "kernelspec": {
   "display_name": "Python 3",
   "language": "python",
   "name": "python3"
  },
  "language_info": {
   "codemirror_mode": {
    "name": "ipython",
    "version": 3
   },
   "file_extension": ".py",
   "mimetype": "text/x-python",
   "name": "python",
   "nbconvert_exporter": "python",
   "pygments_lexer": "ipython3",
   "version": "3.8.3"
  }
 },
 "nbformat": 4,
 "nbformat_minor": 4
}
