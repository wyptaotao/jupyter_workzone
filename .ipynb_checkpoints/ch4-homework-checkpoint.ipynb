{
 "cells": [
  {
   "cell_type": "code",
   "execution_count": 65,
   "metadata": {
    "scrolled": true
   },
   "outputs": [
    {
     "data": {
      "text/plain": [
       "distirct      False\n",
       "built_date    False\n",
       "green_rate     True\n",
       "area          False\n",
       "floor         False\n",
       "oriented      False\n",
       "traffic       False\n",
       "shockproof    False\n",
       "school        False\n",
       "crime_rate     True\n",
       "pm25          False\n",
       "price         False\n",
       "dtype: bool"
      ]
     },
     "execution_count": 65,
     "metadata": {},
     "output_type": "execute_result"
    }
   ],
   "source": [
    "import pandas as pd\n",
    "import numpy as np\n",
    "import matplotlib.pyplot as plt\n",
    "import matplotlib as matplot\n",
    "import seaborn as sns\n",
    "import scipy.stats as st\n",
    "from sklearn.impute import SimpleImputer\n",
    "from sklearn.cluster import KMeans\n",
    "%matplotlib inline\n",
    "\n",
    "df = pd.read_csv('house_train.csv', index_col=0)#读入数据集，并将第一列设为目录\n",
    "\n",
    "df.isnull().any()#检查缺失值"
   ]
  },
  {
   "cell_type": "code",
   "execution_count": 66,
   "metadata": {
    "scrolled": false
   },
   "outputs": [
    {
     "data": {
      "text/plain": [
       "distirct      False\n",
       "built_date    False\n",
       "green_rate    False\n",
       "area          False\n",
       "floor         False\n",
       "oriented      False\n",
       "traffic       False\n",
       "shockproof    False\n",
       "school        False\n",
       "crime_rate    False\n",
       "pm25          False\n",
       "price         False\n",
       "dtype: bool"
      ]
     },
     "execution_count": 66,
     "metadata": {},
     "output_type": "execute_result"
    }
   ],
   "source": [
    "for i in df.columns:\n",
    "    if df[i].isnull().any():\n",
    "        ave=df[i].mean()#计算该行均值\n",
    "        df[i].fillna(ave,inplace=True)\n",
    "        #用均值填充缺失值\n",
    "df.isnull().any()#检查缺失值"
   ]
  },
  {
   "cell_type": "code",
   "execution_count": 67,
   "metadata": {},
   "outputs": [
    {
     "name": "stdout",
     "output_type": "stream",
     "text": [
      "green_rate属性中均值为：52.383，标准差为：7.057\n",
      "id\n",
      "419     75.0\n",
      "764     29.0\n",
      "875     31.0\n",
      "943     31.0\n",
      "1316    28.0\n",
      "1664    75.0\n",
      "1838    30.0\n",
      "1951    83.0\n",
      "Name: green_rate, dtype: float64\n",
      "异常值共8条\n",
      "area属性中均值为：81.536，标准差为：6.238\n",
      "id\n",
      "236     104\n",
      "505     110\n",
      "1053    130\n",
      "1365    140\n",
      "1790    132\n",
      "Name: area, dtype: int64\n",
      "异常值共5条\n",
      "traffic属性中均值为：64.779，标准差为：13.902\n",
      "Series([], Name: traffic, dtype: int64)\n",
      "异常值共0条\n",
      "shockproof属性中均值为：57.931，标准差为：15.169\n",
      "id\n",
      "600     12\n",
      "1917    12\n",
      "Name: shockproof, dtype: int64\n",
      "异常值共2条\n",
      "school属性中均值为：2.356，标准差为：0.753\n",
      "Series([], Name: school, dtype: int64)\n",
      "异常值共0条\n",
      "crime_rate属性中均值为：5.788，标准差为：1.034\n",
      "id\n",
      "452     2.5\n",
      "995     2.6\n",
      "1055    2.6\n",
      "Name: crime_rate, dtype: float64\n",
      "异常值共3条\n",
      "pm25属性中均值为：63.024，标准差为：10.447\n",
      "id\n",
      "90      28\n",
      "323     30\n",
      "452     31\n",
      "729     29\n",
      "823     28\n",
      "995     29\n",
      "1030    30\n",
      "1055    31\n",
      "1223    30\n",
      "1288    31\n",
      "1615    30\n",
      "1893    29\n",
      "1909    30\n",
      "Name: pm25, dtype: int64\n",
      "异常值共13条\n"
     ]
    }
   ],
   "source": [
    "need=['green_rate','area','traffic','shockproof','school','crime_rate','pm25']#需要进行异常值检测的列目录\n",
    "df_c=df\n",
    "for i in need:\n",
    "    mmean=df[i].mean()\n",
    "    sstd =df[i].std()\n",
    "    print('%s属性中均值为：%.3f，标准差为：%.3f' % (i,mmean,sstd))\n",
    "    error = df[i][np.abs(df[i] - mmean) > 3*sstd]\n",
    "    print(error)\n",
    "    df_c[i] = df[i][np.abs(df[i] - mmean) <= 3*sstd]#df_c为剔除异常值之后的数据\n",
    "    print('异常值共%i条' % len(error))"
   ]
  },
  {
   "cell_type": "code",
   "execution_count": 68,
   "metadata": {},
   "outputs": [
    {
     "name": "stdout",
     "output_type": "stream",
     "text": [
      "            distirct  green_rate      area  oriented   traffic  shockproof  \\\n",
      "distirct    1.000000    0.069884 -0.034832 -0.008649 -0.019516   -0.045890   \n",
      "green_rate  0.069884    1.000000 -0.018609  0.047626  0.016044   -0.253599   \n",
      "area       -0.034832   -0.018609  1.000000  0.003501  0.307529    0.274374   \n",
      "oriented   -0.008649    0.047626  0.003501  1.000000  0.033021   -0.073630   \n",
      "traffic    -0.019516    0.016044  0.307529  0.033021  1.000000    0.094220   \n",
      "shockproof -0.045890   -0.253599  0.274374 -0.073630  0.094220    1.000000   \n",
      "school     -0.035775   -0.403446  0.197487 -0.087207  0.270105    0.458060   \n",
      "crime_rate -0.062386   -0.110959  0.408875 -0.064259  0.639726    0.345804   \n",
      "pm25       -0.019249   -0.200332  0.460155 -0.023011  0.766824    0.229675   \n",
      "price      -0.047704    0.053873  0.524945 -0.033219  0.339307    0.284843   \n",
      "\n",
      "              school  crime_rate      pm25     price  \n",
      "distirct   -0.035775   -0.062386 -0.019249 -0.047704  \n",
      "green_rate -0.403446   -0.110959 -0.200332  0.053873  \n",
      "area        0.197487    0.408875  0.460155  0.524945  \n",
      "oriented   -0.087207   -0.064259 -0.023011 -0.033219  \n",
      "traffic     0.270105    0.639726  0.766824  0.339307  \n",
      "shockproof  0.458060    0.345804  0.229675  0.284843  \n",
      "school      1.000000    0.225368  0.355978  0.225293  \n",
      "crime_rate  0.225368    1.000000  0.784214  0.406902  \n",
      "pm25        0.355978    0.784214  1.000000  0.402569  \n",
      "price       0.225293    0.406902  0.402569  1.000000  \n"
     ]
    }
   ],
   "source": [
    "print(df_c.corr())"
   ]
  },
  {
   "cell_type": "markdown",
   "metadata": {},
   "source": [
    "由结果可以看出，与价格相关度最高的三个特征分别为房屋面积、犯罪率和pm2.5。房屋面积相关度高很好理解，房屋使用面积大，自然价格高。但是第二位和第三位的犯罪率和pm2.5需要进行一些合理的推理。\n",
    "观察这两个特征向量，发现他们都与交通便利程度有很高的相关性。故可推测，交通便利的地方，人流大，人员组成成分复杂，犯罪率高也不是不能理解；与此同时，交通便利的地方交通工具多，产生的pm2.5自然也就多。所以这两个数据与其说是原因，不如说是交通便利、房价高导致的结果。"
   ]
  },
  {
   "cell_type": "code",
   "execution_count": 69,
   "metadata": {},
   "outputs": [
    {
     "name": "stdout",
     "output_type": "stream",
     "text": [
      "id\n",
      "1       0.552625\n",
      "2      -0.799097\n",
      "3      -1.124512\n",
      "4       1.553901\n",
      "5      -0.310975\n",
      "          ...   \n",
      "1996   -0.010592\n",
      "1997    3.656580\n",
      "1998   -0.949288\n",
      "1999   -0.273427\n",
      "2000   -1.149543\n",
      "Name: price, Length: 2000, dtype: float64\n"
     ]
    }
   ],
   "source": [
    "pmean=df_c['price'].mean()\n",
    "pstd=df_c['price'].std()\n",
    "df_c['price']=(df_c['price']-pmean)/pstd #z-score标准化\n",
    "print(df_c['price'])"
   ]
  },
  {
   "cell_type": "code",
   "execution_count": 78,
   "metadata": {},
   "outputs": [
    {
     "name": "stderr",
     "output_type": "stream",
     "text": [
      "C:\\Users\\Picasphere\\anaconda3\\lib\\site-packages\\sklearn\\cluster\\_kmeans.py:973: FutureWarning: 'n_jobs' was deprecated in version 0.23 and will be removed in 0.25.\n",
      "  warnings.warn(\"'n_jobs' was deprecated in version 0.23 and will be\"\n"
     ]
    },
    {
     "data": {
      "text/plain": [
       "price_discretized3\n",
       "0    543\n",
       "1    149\n",
       "2    563\n",
       "3     80\n",
       "4    279\n",
       "5    386\n",
       "Name: price_discretized3, dtype: int64"
      ]
     },
     "execution_count": 78,
     "metadata": {},
     "output_type": "execute_result"
    }
   ],
   "source": [
    "data = df_c.price\n",
    "data_re = data.values.reshape((data.index.size, 1))\n",
    "k = 6 #设置离散之后的数据段为10\n",
    "k_model = KMeans(n_clusters = k, n_jobs = 4)\n",
    "result = k_model.fit_predict(data_re)\n",
    "df_c['price_discretized3'] = result\n",
    "df_c.groupby('price_discretized3').price_discretized3.count()"
   ]
  },
  {
   "cell_type": "code",
   "execution_count": null,
   "metadata": {},
   "outputs": [],
   "source": []
  }
 ],
 "metadata": {
  "kernelspec": {
   "display_name": "Python 3",
   "language": "python",
   "name": "python3"
  },
  "language_info": {
   "codemirror_mode": {
    "name": "ipython",
    "version": 3
   },
   "file_extension": ".py",
   "mimetype": "text/x-python",
   "name": "python",
   "nbconvert_exporter": "python",
   "pygments_lexer": "ipython3",
   "version": "3.8.3"
  }
 },
 "nbformat": 4,
 "nbformat_minor": 4
}
