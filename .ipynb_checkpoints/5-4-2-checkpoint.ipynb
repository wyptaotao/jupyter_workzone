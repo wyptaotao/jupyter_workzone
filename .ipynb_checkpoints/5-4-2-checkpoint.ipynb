{
 "cells": [
  {
   "cell_type": "code",
   "execution_count": 1,
   "metadata": {},
   "outputs": [
    {
     "name": "stdout",
     "output_type": "stream",
     "text": [
      "KNN模型训练集的准确率：0.971\n",
      "KNN模型测试集的准确率：0.978\n"
     ]
    }
   ],
   "source": [
    "#鸢尾花KNN分类\n",
    "from sklearn.datasets import load_iris\n",
    "from sklearn import neighbors\n",
    "from sklearn.metrics import classification_report\n",
    "from sklearn.model_selection import train_test_split\n",
    "KNN = neighbors.KNeighborsClassifier(n_neighbors = 5) \n",
    "X = load_iris().data\n",
    "Y = load_iris().target\n",
    "x_train, x_test, y_train, y_test = train_test_split(X,Y, test_size = 0.3, random_state = 0)\n",
    "KNN.fit(x_train,y_train)\n",
    "print(\"KNN模型训练集的准确率：%.3f\" %KNN.score(x_train, y_train))\n",
    "print(\"KNN模型测试集的准确率：%.3f\" %KNN.score(x_test, y_test))"
   ]
  }
 ],
 "metadata": {
  "kernelspec": {
   "display_name": "Python 3",
   "language": "python",
   "name": "python3"
  },
  "language_info": {
   "codemirror_mode": {
    "name": "ipython",
    "version": 3
   },
   "file_extension": ".py",
   "mimetype": "text/x-python",
   "name": "python",
   "nbconvert_exporter": "python",
   "pygments_lexer": "ipython3",
   "version": "3.8.3"
  }
 },
 "nbformat": 4,
 "nbformat_minor": 2
}
