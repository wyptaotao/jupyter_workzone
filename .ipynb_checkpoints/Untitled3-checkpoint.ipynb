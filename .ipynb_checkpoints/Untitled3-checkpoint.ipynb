{
 "cells": [
  {
   "cell_type": "code",
   "execution_count": 55,
   "metadata": {},
   "outputs": [],
   "source": [
    "from sklearn.neural_network import BernoulliRBM\n",
    "from sklearn.neural_network import MLPClassifier\n",
    "from sklearn.neural_network import MLPRegressor\n",
    "from sklearn.datasets import fetch_openml\n",
    "from sklearn.model_selection import train_test_split\n",
    "import numpy as np\n",
    "import struct\n",
    "import matplotlib.pyplot as plt\n",
    "import os"
   ]
  },
  {
   "cell_type": "code",
   "execution_count": 56,
   "metadata": {
    "scrolled": false
   },
   "outputs": [],
   "source": [
    "mnist = fetch_openml(\"mnist_784\")\n",
    "mnist\n",
    "x=mnist.data\n",
    "y=mnist.target\n",
    "x_train, x_test, y_train, y_test = train_test_split(x,y, test_size = 0.3)"
   ]
  },
  {
   "cell_type": "code",
   "execution_count": 72,
   "metadata": {},
   "outputs": [
    {
     "data": {
      "text/plain": [
       "MLPClassifier(hidden_layer_sizes=100, learning_rate_init=0.01, max_iter=50)"
      ]
     },
     "execution_count": 72,
     "metadata": {},
     "output_type": "execute_result"
    }
   ],
   "source": [
    "CLF=MLPClassifier(hidden_layer_sizes=(100),learning_rate_init=0.1, max_iter=50)\n",
    "CLF.fit(x_train,y_train)"
   ]
  },
  {
   "cell_type": "code",
   "execution_count": 73,
   "metadata": {},
   "outputs": [
    {
     "name": "stdout",
     "output_type": "stream",
     "text": [
      "['7' '8' '6' ... '5' '9' '9']\n",
      "[[5.81362801e-40 2.15810129e-24 1.32119367e-12 ... 9.99997464e-01\n",
      "  1.30717375e-32 2.53565806e-06]\n",
      " [1.15549352e-25 3.51716339e-19 1.41702435e-20 ... 2.45470693e-18\n",
      "  9.99998506e-01 6.83851528e-16]\n",
      " [3.17413373e-02 1.81736366e-02 1.70987474e-01 ... 2.14637990e-02\n",
      "  1.16156431e-01 3.04702952e-02]\n",
      " ...\n",
      " [4.81981012e-30 8.40573096e-89 7.37871553e-99 ... 4.96375232e-49\n",
      "  6.39546238e-53 9.64973103e-41]\n",
      " [7.24698839e-36 5.96947980e-10 2.06497079e-10 ... 2.53737915e-03\n",
      "  1.91456631e-05 9.96289029e-01]\n",
      " [1.01340738e-49 1.70237783e-13 1.60193202e-14 ... 2.77624260e-04\n",
      "  1.56913491e-07 9.99636971e-01]]\n"
     ]
    },
    {
     "data": {
      "text/plain": [
       "0.813952380952381"
      ]
     },
     "execution_count": 73,
     "metadata": {},
     "output_type": "execute_result"
    }
   ],
   "source": [
    "ppp = CLF.predict(x_test)\n",
    "print(ppp)\n",
    "print(CLF.predict_proba(x_test))\n",
    "CLF.score(x_test,y_test)"
   ]
  },
  {
   "cell_type": "markdown",
   "metadata": {},
   "source": []
  }
 ],
 "metadata": {
  "kernelspec": {
   "display_name": "Python 3",
   "language": "python",
   "name": "python3"
  },
  "language_info": {
   "codemirror_mode": {
    "name": "ipython",
    "version": 3
   },
   "file_extension": ".py",
   "mimetype": "text/x-python",
   "name": "python",
   "nbconvert_exporter": "python",
   "pygments_lexer": "ipython3",
   "version": "3.8.3"
  }
 },
 "nbformat": 4,
 "nbformat_minor": 4
}
