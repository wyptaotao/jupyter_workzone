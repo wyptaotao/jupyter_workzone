{
 "cells": [
  {
   "cell_type": "markdown",
   "metadata": {},
   "source": [
    "# 归并排序"
   ]
  },
  {
   "cell_type": "code",
   "execution_count": 1,
   "metadata": {},
   "outputs": [],
   "source": [
    "def merge(x,y):\n",
    "    z=[]\n",
    "    i=j=0\n",
    "    while i<len(x) and j<len(y):\n",
    "        if x[i]<y[j]:#a中当前元素更小\n",
    "            z.append(x[i])\n",
    "            i+=1\n",
    "        else:#b中当前元素更小\n",
    "            z.append(y[j])\n",
    "            j+=1\n",
    "    if i==len(x):#a中元素已经全部插入\n",
    "        for m in y[j:]:\n",
    "            z.append(m)\n",
    "    else:#b中元素已经全部插入\n",
    "        for m in x[i:]:\n",
    "            z.append(m)\n",
    "    return z\n",
    "\n",
    "def merge_sort(_list):\n",
    "    \n",
    "    if len(_list)<=1:\n",
    "        return _list\n",
    "    \n",
    "    mid=len(_list)//2#整除分成两半\n",
    "    \n",
    "    left=merge_sort(_list[:mid])\n",
    "    \n",
    "    right=merge_sort(_list[mid:])\n",
    "    \n",
    "    return merge(left,right)\n"
   ]
  },
  {
   "cell_type": "code",
   "execution_count": 3,
   "metadata": {},
   "outputs": [
    {
     "name": "stdout",
     "output_type": "stream",
     "text": [
      "[0, 1, 1, 1, 8, 9, 9]\n"
     ]
    }
   ],
   "source": [
    "a=[1,9,1,9,8,1,0]\n",
    "print(merge_sort(a))"
   ]
  },
  {
   "cell_type": "code",
   "execution_count": null,
   "metadata": {},
   "outputs": [],
   "source": []
  }
 ],
 "metadata": {
  "kernelspec": {
   "display_name": "Python 3",
   "language": "python",
   "name": "python3"
  },
  "language_info": {
   "codemirror_mode": {
    "name": "ipython",
    "version": 3
   },
   "file_extension": ".py",
   "mimetype": "text/x-python",
   "name": "python",
   "nbconvert_exporter": "python",
   "pygments_lexer": "ipython3",
   "version": "3.8.3"
  }
 },
 "nbformat": 4,
 "nbformat_minor": 4
}
